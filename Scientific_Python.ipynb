{
 "cells": [
  {
   "cell_type": "markdown",
   "metadata": {},
   "source": [
    "<center><h1>Introduction to Scientific Python</h1><center>\n",
    "\n",
    "<center>\n",
    "<h3>Texas A&amp;M High Performance Research Computing (TAMU HPRC)<br>\n",
    "Yang Liu</h3>\n",
    "<h3><a href=\"https://hprc.tamu.edu/training/intro_scientific_python.html\">course web page</a></h3>\n",
    "</center>"
   ]
  },
  {
   "cell_type": "markdown",
   "metadata": {},
   "source": [
    "# Agenda\n",
    "\n",
    "1. Numpy\n",
    "- Matplotlib\n",
    "- Scipy\n",
    "- Numba\n",
    "- Errors in Sicentific Computing"
   ]
  },
  {
   "cell_type": "markdown",
   "metadata": {},
   "source": [
    "# 1 Numpy\n",
    "Numpy is a fundamental package for scientific computing in python. It provides\n",
    "<ul>\n",
    "    <li> multidiensional array object and various derived objects (matrices, etc.),\n",
    "    <li> routines for fast operations on arrays: mathematical, shape manipulation, sorting, and so son.\n",
    "</ul>\n",
    "Other widely usaged packages (Scipy, Biopython, Pandas, etc) are built on Numpy."
   ]
  },
  {
   "cell_type": "markdown",
   "metadata": {},
   "source": [
    "# 1.1 Numpy Array\n",
    "A Numpy array (ndarray class) is a table of elements of the same type. An ndarray object in Numpy has several imorant attributes:\n",
    "<ul>\n",
    "    <li> size: total number of elements\n",
    "    <li> ndim: number of dimensions/axes (rank)\n",
    "    <li> shape: a tuple of integers in which each eleemnt is the size of a dimension\n",
    "    <li> dtype: data type of elements\n",
    "</ul>"
   ]
  },
  {
   "cell_type": "code",
   "execution_count": 3,
   "metadata": {},
   "outputs": [
    {
     "name": "stdout",
     "output_type": "stream",
     "text": [
      "[[1 2 3]\n",
      " [4 5 6]]\n",
      "a.size = 6\n",
      "a.ndim = 2\n",
      "a.shape = (2, 3)\n",
      "a.dtype = int64\n"
     ]
    }
   ],
   "source": [
    "import numpy as np\n",
    "a = np.array([[1, 2, 3],\n",
    "              [4, 5, 6]])\n",
    "print(a)\n",
    "print('a.size = {:d}'.format(a.size))\n",
    "print('a.ndim = {:d}'.format(a.ndim))\n",
    "print('a.shape = {}'.format(a.shape))\n",
    "print('a.dtype = {}'.format(a.dtype))"
   ]
  },
  {
   "cell_type": "markdown",
   "metadata": {},
   "source": [
    "# 1.2 Operations on Arrays\n",
    "Arithemetic operations on arrays are element-wise operations, while some other functions are not."
   ]
  },
  {
   "cell_type": "code",
   "execution_count": 6,
   "metadata": {},
   "outputs": [
    {
     "name": "stdout",
     "output_type": "stream",
     "text": [
      "a = [10 20 40]\n",
      "b = [0.50616209 0.30887966 0.79000653]\n",
      "a + b = [10.50616209 20.30887966 40.79000653]\n",
      "a - b [ 9.49383791 19.69112034 39.20999347]\n",
      "abs(b - a) [ 9.49383791 19.69112034 39.20999347]\n",
      "a < b = [False False False]\n",
      "sin(a) = [-0.54402111  0.91294525  0.74511316]\n",
      "sqrt(a) = [3.16227766 4.47213595 6.32455532]\n",
      "power(a) = [ 1000  8000 64000]\n",
      "sum(a) = 70\n",
      "mean(a) = 23.333333333333332\n"
     ]
    }
   ],
   "source": [
    "import numpy as np\n",
    "a = np.array([10, 20, 40])\n",
    "b = np.random.random((3))\n",
    "print('a =', a)\n",
    "print('b =', b)\n",
    "print('a + b =', a + b)\n",
    "print('a - b', a - b)\n",
    "print('abs(b - a)', np.abs(b - a))\n",
    "print('a < b =', a < b)\n",
    "print('sin(a) =', np.sin(a))\n",
    "print('sqrt(a) =', np.sqrt(a))\n",
    "print('power(a) =', np.power(a, 3))\n",
    "print('sum(a) =', np.sum(a))\n",
    "print('mean(a) =', np.mean(a))"
   ]
  },
  {
   "cell_type": "markdown",
   "metadata": {},
   "source": [
    "# 1.3 Exercise   Minkowski Distance\n",
    "Let $X = [x_{1}, x_2, ..., x_n)$ and $Y = [y_1, y_2, ..., y_n]$. Then the Minkowski distnace of order p between X and Y is \n",
    "\n",
    "\n",
    "$D(X, Y) = (|x_1-y_1|^p + |x_2 - y_2|^p + ... + |x_n -y_n|^p)^{1/p}$\n",
    "\n",
    "When $p=1$, this is the Manhattan distance.\n",
    "\n",
    "When $p=2$, this is the Euclidian distance.\n",
    "\n",
    "Complete the following function to calculate the Minkowski distance.\n"
   ]
  },
  {
   "cell_type": "code",
   "execution_count": 22,
   "metadata": {},
   "outputs": [
    {
     "name": "stdout",
     "output_type": "stream",
     "text": [
      "x = [1 2 3], y = [2 3 4], minkowski_distance(x - y) =3\n",
      "x = [1 2 3]\n",
      "y = [2 3 4]\n",
      "p = 1, xy_p1_distance = 3.0\n",
      "p = 1, yx_p1_distance = 3.0\n"
     ]
    }
   ],
   "source": [
    "import numpy as np\n",
    "\n",
    "def distance(x, y, p):\n",
    "# complete the function\n",
    "    return np.power(np.sum(np.power((np.abs(x.astype(int)-y.astype(int))),p)),(1/p))\n",
    "# end of the distance() function\n",
    "\n",
    "x = np.array([1, 2, 3], np.uint8)\n",
    "y = np.array([2, 3, 4], np.uint8)\n",
    "p = 1\n",
    "print('x = {}, y = {}, minkowski_distance(x - y) ={}'.format(x,y, np.sum(np.power(np.abs(x.astype('int')-y.astype('int')),p))))\n",
    "xy_p1_distance = distance(x, y, p)\n",
    "yx_p1_distance = distance(x, y, p)\n",
    "print('x = {}'.format(x))\n",
    "print('y = {}'.format(y))\n",
    "print('p = {}, xy_p1_distance = {}'.format(p, xy_p1_distance))\n",
    "print('p = {}, yx_p1_distance = {}'.format(p, yx_p1_distance))\n"
   ]
  },
  {
   "cell_type": "code",
   "execution_count": null,
   "metadata": {},
   "outputs": [],
   "source": [
    "# this is a solution to the exercise above\n",
    "\n",
    "import numpy as np\n",
    "\n",
    "def distance(x, y, p):\n",
    "    distance = pow(np.sum(np.power(np.abs(x.astype('int') - y.astype('int')), p)), 1/p)\n",
    "    return distance\n",
    "\n",
    "x = np.array([1, 2, 3], np.uint8)\n",
    "y = np.array([2, 3, 4], np.uint8)\n",
    "p = 1\n",
    "xy_p1_distance = distance(x, y, p)\n",
    "yx_p1_distance = distance(y, x, p)\n",
    "print('x = {}'.format(x))\n",
    "print('y = {}'.format(y))\n",
    "print('p = {}, xy_p1_distance = {}'.format(p, xy_p1_distance))\n",
    "print('p = {}, yx_p1_distance = {}'.format(p, yx_p1_distance))"
   ]
  },
  {
   "cell_type": "markdown",
   "metadata": {},
   "source": [
    "# 1.4 Array Indexing and Slicing\n",
    "<ul>\n",
    "    <li> An array element can be referred as a[i1, i2, ...] where i1 (i2, etc.) is the index of that element in the first (second, etc) dimension.\n",
    "    <li> A slicing start:end:step refers to one or more elements.\n",
    "    <li> Note that an index starts from 0.\n",
    "<ul>"
   ]
  },
  {
   "cell_type": "code",
   "execution_count": 23,
   "metadata": {},
   "outputs": [
    {
     "name": "stdout",
     "output_type": "stream",
     "text": [
      "a = [0 1 2 3 4 5 6 7 8 9]\n",
      "a[0] = 0\n",
      "a[:9: =] [0 1 2 3 4 5 6 7 8]\n",
      "a[:10: =] [0 1 2 3 4 5 6 7 8 9]\n",
      "a = [5 1 2 3 4 5 6 7 8 9]\n",
      "b = [[ 1  2  3  4  5]\n",
      " [ 6  7  8  9 10]]\n",
      "b[1, 3] = 9\n",
      "b[1, ::2] = [ 6  8 10]\n",
      "b[1, :4:2] = [6 8]\n",
      "b[1, 1:4:2] = [7 9]\n"
     ]
    }
   ],
   "source": [
    "import numpy as np\n",
    "a = np.arange(10)\n",
    "print('a =', a)\n",
    "print('a[0] =', a[0])\n",
    "print('a[:9: =]', a[:9:])\n",
    "#a[end] is not included in a[start:end:1]\n",
    "print('a[:10: =]', a[:10:])\n",
    "a[0] =5\n",
    "print('a =', a)\n",
    "#print('a[10] =', a[10])\n",
    "b = np.array([[1, 2, 3, 4, 5],\n",
    "             [6, 7, 8, 9, 10]])\n",
    "print('b =', b)\n",
    "print('b[1, 3] =', b[1, 3])\n",
    "print('b[1, ::2] =', b[1, ::2])\n",
    "print('b[1, :4:2] =', b[1, :4:2])\n",
    "print('b[1, 1:4:2] =', b[1, 1:4:2])\n",
    "# slicing: start:end --exclude end but include start\n",
    "# extended slicing  start:end:step\n"
   ]
  },
  {
   "cell_type": "markdown",
   "metadata": {},
   "source": [
    "# 1.5 Array of Zeros and Ones"
   ]
  },
  {
   "cell_type": "code",
   "execution_count": 24,
   "metadata": {},
   "outputs": [
    {
     "name": "stdout",
     "output_type": "stream",
     "text": [
      "[[0 1 0 1 0 1 0 1]\n",
      " [1 0 1 0 1 0 1 0]\n",
      " [0 1 0 1 0 1 0 1]\n",
      " [1 0 1 0 1 0 1 0]\n",
      " [0 1 0 1 0 1 0 1]\n",
      " [1 0 1 0 1 0 1 0]\n",
      " [0 1 0 1 0 1 0 1]\n",
      " [1 0 1 0 1 0 1 0]]\n"
     ]
    }
   ],
   "source": [
    "# Example to create a 8x8 matrix and fill it with a checkerboard pattern\n",
    "# from http://www.labri.fr/perso/nrougier/teaching/numpy.100/\n",
    "Z = np.zeros((8,8),dtype=int)\n",
    "Z[1::2,::2] = 1\n",
    "Z[::2,1::2] = 1\n",
    "print(Z)"
   ]
  },
  {
   "cell_type": "markdown",
   "metadata": {},
   "source": [
    "# 1.6 Exercise: Create a 12x12 array with 1 on the border and 0 inside"
   ]
  },
  {
   "cell_type": "code",
   "execution_count": 34,
   "metadata": {},
   "outputs": [
    {
     "name": "stdout",
     "output_type": "stream",
     "text": [
      "[[1 1 1 1 1 1 1 1 1 1 1 1]\n",
      " [1 1 1 1 1 1 1 1 1 1 1 1]\n",
      " [1 1 1 1 1 1 1 1 1 1 1 1]\n",
      " [1 1 1 1 1 1 1 1 1 1 1 1]\n",
      " [1 1 1 1 1 1 1 1 1 1 1 1]\n",
      " [1 1 1 1 1 1 1 1 1 1 1 1]\n",
      " [1 1 1 1 1 1 1 1 1 1 1 1]\n",
      " [1 1 1 1 1 1 1 1 1 1 1 1]\n",
      " [1 1 1 1 1 1 1 1 1 1 1 1]\n",
      " [1 1 1 1 1 1 1 1 1 1 1 1]\n",
      " [1 1 1 1 1 1 1 1 1 1 1 1]\n",
      " [1 1 1 1 1 1 1 1 1 1 1 1]]\n",
      "\n",
      "\n",
      "[[1 1 1 1 1 1 1 1 1 1 1 1]\n",
      " [1 0 0 0 0 0 0 0 0 0 0 1]\n",
      " [1 0 0 0 0 0 0 0 0 0 0 1]\n",
      " [1 0 0 0 0 0 0 0 0 0 0 1]\n",
      " [1 0 0 0 0 0 0 0 0 0 0 1]\n",
      " [1 0 0 0 0 0 0 0 0 0 0 1]\n",
      " [1 0 0 0 0 0 0 0 0 0 0 1]\n",
      " [1 0 0 0 0 0 0 0 0 0 0 1]\n",
      " [1 0 0 0 0 0 0 0 0 0 0 1]\n",
      " [1 0 0 0 0 0 0 0 0 0 0 1]\n",
      " [1 0 0 0 0 0 0 0 0 0 0 1]\n",
      " [1 1 1 1 1 1 1 1 1 1 1 1]]\n"
     ]
    }
   ],
   "source": [
    "import numpy as np\n",
    "\n",
    "# create a 12x12 array of ones \n",
    "a = np.ones((12, 12), dtype=int)\n",
    "print(a)\n",
    "a[1:-1,1:-1] = 0\n",
    "# set the elements in the middle to 0\n",
    "\n",
    "\n",
    "# display the array\n",
    "print(\"\\n\")\n",
    "print(a)"
   ]
  },
  {
   "cell_type": "code",
   "execution_count": 31,
   "metadata": {},
   "outputs": [
    {
     "name": "stdout",
     "output_type": "stream",
     "text": [
      "[[1. 1. 1. 1. 1. 1. 1. 1. 1. 1. 1. 1.]\n",
      " [1. 0. 0. 0. 0. 0. 0. 0. 0. 0. 0. 1.]\n",
      " [1. 0. 0. 0. 0. 0. 0. 0. 0. 0. 0. 1.]\n",
      " [1. 0. 0. 0. 0. 0. 0. 0. 0. 0. 0. 1.]\n",
      " [1. 0. 0. 0. 0. 0. 0. 0. 0. 0. 0. 1.]\n",
      " [1. 0. 0. 0. 0. 0. 0. 0. 0. 0. 0. 1.]\n",
      " [1. 0. 0. 0. 0. 0. 0. 0. 0. 0. 0. 1.]\n",
      " [1. 0. 0. 0. 0. 0. 0. 0. 0. 0. 0. 1.]\n",
      " [1. 0. 0. 0. 0. 0. 0. 0. 0. 0. 0. 1.]\n",
      " [1. 0. 0. 0. 0. 0. 0. 0. 0. 0. 0. 1.]\n",
      " [1. 0. 0. 0. 0. 0. 0. 0. 0. 0. 0. 1.]\n",
      " [1. 1. 1. 1. 1. 1. 1. 1. 1. 1. 1. 1.]]\n"
     ]
    }
   ],
   "source": [
    "# This is a solution to the exercise above\n",
    "import numpy as np\n",
    "\n",
    "a = np.ones((12,12))\n",
    "a[1:-1,1:-1] = 0\n",
    "#a[1:a.shape[0] -1,1:a.shape[1]-1] = 0\n",
    "print(a)"
   ]
  },
  {
   "cell_type": "markdown",
   "metadata": {},
   "source": [
    "# 1.7 Array of Numbers in a Sequence\n",
    "<ul>\n",
    "    <li>arange(start, end, step): creates an array of element start, start + step, start + 2 * step, ... (like slicing). Note that the end number is not included in the array.\n",
    "    <li>linspace(start, end, num_elements): creates an array of start, start + step, start + 2 * step, ... where step = (end - start) / num_elements. Note that the end number maybe included.\n",
    "    <li> Due to finite floating point precision, it is difficult to predict the number of elements for arange. Avoid using arange when step is not an integer.\n",
    "</ul>"
   ]
  },
  {
   "cell_type": "code",
   "execution_count": 37,
   "metadata": {},
   "outputs": [
    {
     "name": "stdout",
     "output_type": "stream",
     "text": [
      "a =\n",
      "[1.  1.3 1.6 1.9 2.2 2.5 2.8 3.1 3.4 3.7 4.  4.3 4.6 4.9 5.2 5.5 5.8 6.1\n",
      " 6.4 6.7 7.  7.3 7.6 7.9 8.2 8.5 8.8 9.1 9.4 9.7]\n",
      "a.size = 30\n",
      "b =\n",
      "[ 1.          1.31034483  1.62068966  1.93103448  2.24137931  2.55172414\n",
      "  2.86206897  3.17241379  3.48275862  3.79310345  4.10344828  4.4137931\n",
      "  4.72413793  5.03448276  5.34482759  5.65517241  5.96551724  6.27586207\n",
      "  6.5862069   6.89655172  7.20689655  7.51724138  7.82758621  8.13793103\n",
      "  8.44827586  8.75862069  9.06896552  9.37931034  9.68965517 10.        ]\n",
      "b.size = 30\n"
     ]
    }
   ],
   "source": [
    "import numpy as np\n",
    "a = np.arange(1, 10, 0.3)\n",
    "print('a =')\n",
    "print(a)\n",
    "print('a.size = {}'.format(a.size))\n",
    "b = np.linspace(1, 10, 30)\n",
    "print('b =')\n",
    "print(b)\n",
    "print('b.size = {}'.format(b.size))"
   ]
  },
  {
   "cell_type": "markdown",
   "metadata": {},
   "source": [
    "# 1.8 Axis Paramters in Functions\n",
    "\n",
    "Functions may take axis as a parameter. Now let's understand how the axis parameter works for np.sum().\n"
   ]
  },
  {
   "cell_type": "code",
   "execution_count": 42,
   "metadata": {},
   "outputs": [
    {
     "name": "stdout",
     "output_type": "stream",
     "text": [
      "array a = \n",
      " [[1 2 3]\n",
      " [4 5 6]]\n",
      "sum_by_axis_zero =  [5 7 9]\n",
      "sum_by_axis_one =  [ 6 15]\n",
      "sum of all elements =  21\n",
      "array b = \n",
      "  [[[ 1  2  3  4]\n",
      "  [ 4  5  6  7]\n",
      "  [ 1  2  3  4]]\n",
      "\n",
      " [[ 6  7  8  9]\n",
      "  [ 9 10 11 12]\n",
      "  [ 6  7  8  9]]]\n",
      "shape of array b =  (2, 3, 4)\n",
      "sum by axis zeor of array b = \n",
      "[[ 7  9 11 13]\n",
      " [13 15 17 19]\n",
      " [ 7  9 11 13]]\n",
      "shape of sum_by_axis_zero =  (3, 4)\n",
      "sum by axis one of array b = \n",
      "[[ 6  9 12 15]\n",
      " [21 24 27 30]]\n",
      "shape of sum_by_axis_one =  (2, 4)\n"
     ]
    }
   ],
   "source": [
    "import numpy as np\n",
    "\n",
    "a = np.array([[1, 2, 3],[4, 5, 6]])\n",
    "print('array a = \\n', a)\n",
    "# sum the array elements by column\n",
    "# 'axis = 0'\n",
    "sum_by_axis_zero = np.sum(a, axis = 0)\n",
    "print('sum_by_axis_zero = ' , sum_by_axis_zero)\n",
    "# sum the array elements by row\n",
    "sum_by_axis_one = np.sum(a, axis = 1)\n",
    "print('sum_by_axis_one = ' , sum_by_axis_one)\n",
    "# sum all the array elements\n",
    "print('sum of all elements = ', np.sum(a))\n",
    "\n",
    "b = np.array([[[1, 2, 3, 4], [4, 5, 6, 7], [1, 2, 3, 4]], [[6, 7, 8, 9], [9, 10, 11, 12], [6, 7, 8, 9]]])\n",
    "print('array b = \\n ', b)\n",
    "print('shape of array b = ', b.shape)\n",
    "# Now the code below shows that 'axis = 0' means to collaps along axis 0\n",
    "sum_by_axis_zero = np.sum(b, axis = 0)\n",
    "print(\"sum by axis zeor of array b = \",)\n",
    "print(sum_by_axis_zero)\n",
    "print(\"shape of sum_by_axis_zero = \", sum_by_axis_zero.shape)\n",
    "sum_by_axis_one = np.sum(b, axis = 1)\n",
    "print(\"sum by axis one of array b = \",)\n",
    "print(sum_by_axis_one)\n",
    "print(\"shape of sum_by_axis_one = \", sum_by_axis_one.shape)"
   ]
  },
  {
   "cell_type": "code",
   "execution_count": 43,
   "metadata": {},
   "outputs": [
    {
     "name": "stdout",
     "output_type": "stream",
     "text": [
      "(3, 3)\n",
      "x = \n",
      "[[1 2 3]\n",
      " [4 5 6]\n",
      " [7 8 9]]\n",
      "y = \n",
      "[1. 1. 1.]\n",
      "apply distance function on dimension 1 of x: z = \n",
      "[ 3. 12. 21.]\n",
      "apply distance function on dimension 0 of x: z = \n",
      "[ 9. 12. 15.]\n"
     ]
    }
   ],
   "source": [
    "# Now let's see how the axis parameter works for np.apply_along_axis():\n",
    "# the function takes the slicing along the specified axis parameter\n",
    "\n",
    "def distance(x, y, p):\n",
    "    distance = pow(np.sum(np.power(np.abs(x.astype('int') - y.astype('int')), p)), 1/p)\n",
    "    return distance\n",
    "\n",
    "x = np.array([[1, 2, 3], [4, 5, 6], [7, 8, 9]])\n",
    "print(x.shape)\n",
    "print('x = ')\n",
    "print(x)\n",
    "y = np.ones(3)\n",
    "print('y = ')\n",
    "print(y)\n",
    "p = 1\n",
    "z = np.apply_along_axis(distance, 1, x, y=y, p=p)\n",
    "print('apply distance function on dimension 1 of x: z = ')\n",
    "print(z)\n",
    "z = np.apply_along_axis(distance, 0, x, y=y, p=p)\n",
    "print('apply distance function on dimension 0 of x: z = ')\n",
    "print(z)"
   ]
  },
  {
   "cell_type": "markdown",
   "metadata": {},
   "source": [
    "# 1.9 Exericse: Use apply_along_axis to sort a two dimensional array"
   ]
  },
  {
   "cell_type": "code",
   "execution_count": 53,
   "metadata": {},
   "outputs": [
    {
     "name": "stdout",
     "output_type": "stream",
     "text": [
      "[[1 4 9]\n",
      " [2 5 8]\n",
      " [3 6 7]]\n",
      "[[3 7 1]\n",
      " [4 8 2]\n",
      " [5 9 6]]\n"
     ]
    }
   ],
   "source": [
    "import numpy as np  \n",
    "  \n",
    "a = np.array([[4, 9, 1], [5, 8, 2], [3, 7, 6]]) \n",
    "# print the array such that elements are sorted in each row\n",
    "# 'sorted' function can be the first parameter of apply_along_axis\n",
    "print(np.apply_along_axis(sorted,1,a))\n",
    "# print the array such that elements are sorted in each column\n",
    "# 'sorted' function can be the first parameter of apply_along_axis\n",
    "print(np.apply_along_axis(sorted,0,a))"
   ]
  },
  {
   "cell_type": "code",
   "execution_count": 44,
   "metadata": {},
   "outputs": [
    {
     "name": "stdout",
     "output_type": "stream",
     "text": [
      "array a = \n",
      " [[4 9 1]\n",
      " [5 8 2]\n",
      " [3 7 6]]\n",
      "Sorted array in each row/by axis 1:\n",
      "[[1 4 9]\n",
      " [2 5 8]\n",
      " [3 6 7]]\n",
      "Sorted array in each row/by axis 0:\n",
      "[[3 7 1]\n",
      " [4 8 2]\n",
      " [5 9 6]]\n"
     ]
    }
   ],
   "source": [
    "# this is a solution to the exercise above\n",
    "\n",
    "import numpy as np  \n",
    "  \n",
    "a = np.array([[4, 9, 1], [5, 8, 2], [3, 7, 6]]) \n",
    "print('array a = \\n', a)\n",
    "# print the array such that elements are sorted in each row\n",
    "print(\"Sorted array in each row/by axis 1:\")\n",
    "print(np.apply_along_axis(sorted, 1, a))\n",
    "\n",
    "# print the array such that elements are sorted in each column\n",
    "print(\"Sorted array in each row/by axis 0:\")\n",
    "print(np.apply_along_axis(sorted, 0, a))"
   ]
  },
  {
   "cell_type": "markdown",
   "metadata": {},
   "source": [
    "# 1.10 Random Arrays\n",
    "Numpy random.random generates an array in which each element is a random floating numbers between 0 and 1"
   ]
  },
  {
   "cell_type": "code",
   "execution_count": 54,
   "metadata": {},
   "outputs": [
    {
     "name": "stdout",
     "output_type": "stream",
     "text": [
      "random array a = [[0.87882988 0.62951554 0.136294  ]\n",
      " [0.01791985 0.91087713 0.54106561]]\n",
      "random array b = [[0.98726468 0.67364103 0.3411764 ]\n",
      " [0.40846635 0.78054082 0.34150247]]\n",
      "random array a = [[0.27086937 0.64302494 0.04087874]\n",
      " [0.72369308 0.42629005 0.84304669]]\n",
      "random array b = [[0.97074263 0.29199311 0.56404306]\n",
      " [0.90662682 0.99387492 0.83953958]]\n"
     ]
    }
   ],
   "source": [
    "import numpy as np\n",
    "a = np.random.random((2, 3))\n",
    "print('random array a =', a)\n",
    "b = np.random.random((2, 3))\n",
    "print('random array b =', b)\n",
    "a = np.random.random((2, 3))\n",
    "print('random array a =', a)\n",
    "b = np.random.random((2, 3))\n",
    "print('random array b =', b)"
   ]
  },
  {
   "cell_type": "markdown",
   "metadata": {},
   "source": [
    "Sometimes it is useful to have a sequence of repeatable/predicatble random numbers. The function random.seed(x) tells random.random() function to generate a sequence of random numbers with seed of x. That is, whenever random.seed(x) is called, the following random numbers generated from random.random() are the same."
   ]
  },
  {
   "cell_type": "code",
   "execution_count": 57,
   "metadata": {},
   "outputs": [
    {
     "name": "stdout",
     "output_type": "stream",
     "text": [
      "Now the random seed is set to 5. Whenver the seed is set to 5, the sequence of random numbers from random.random() should be the same\n",
      "random array a = [[0.22199317 0.87073231 0.20671916]\n",
      " [0.91861091 0.48841119 0.61174386]]\n",
      "random array b = [[0.76590786 0.51841799 0.2968005 ]\n",
      " [0.18772123 0.08074127 0.7384403 ]]\n",
      "Now the random seed is reset to 5. The random numbers generated from random.random() should be repeated as above/\n",
      "random array a = [[0.22199317 0.87073231 0.20671916]\n",
      " [0.91861091 0.48841119 0.61174386]]\n",
      "random array b = [[0.76590786 0.51841799 0.2968005 ]\n",
      " [0.18772123 0.08074127 0.7384403 ]]\n",
      "Now the random seed is reset to 4. The random numbers generated from random.random() should not be the same as above/\n",
      "random array a = [[0.96702984 0.54723225 0.97268436]\n",
      " [0.71481599 0.69772882 0.2160895 ]]\n",
      "random array b = [[0.97627445 0.00623026 0.25298236]\n",
      " [0.43479153 0.77938292 0.19768507]]\n"
     ]
    }
   ],
   "source": [
    "import numpy as np\n",
    "np.random.seed(5)\n",
    "print('Now the random seed is set to 5. Whenver the seed is set to 5, the sequence of random numbers from random.random() should be the same')\n",
    "a = np.random.random((2, 3))\n",
    "print('random array a =', a)\n",
    "b = np.random.random((2, 3))\n",
    "print('random array b =', b)\n",
    "np.random.seed(5)\n",
    "print(\"Now the random seed is reset to 5. The random numbers generated from random.random() should be repeated as above/\")\n",
    "a = np.random.random((2, 3))\n",
    "print('random array a =', a)\n",
    "b = np.random.random((2, 3))\n",
    "print('random array b =', b)\n",
    "np.random.seed(4)\n",
    "print(\"Now the random seed is reset to 4. The random numbers generated from random.random() should not be the same as above/\")\n",
    "a = np.random.random((2, 3))\n",
    "print('random array a =', a)\n",
    "b = np.random.random((2, 3))\n",
    "print('random array b =', b)"
   ]
  },
  {
   "cell_type": "markdown",
   "metadata": {},
   "source": [
    "# 1.11 Array Indexes: Boolean Indexes\n",
    "Booleans can be used in an array of indexes to select elements from an array x.\n",
    "<ul>\n",
    "    <li> The array of indexes b should have the same shape of array x.\n",
    "    <li> An element of array a is selected by x[b] if its corresponding boolean value in b is True.\n",
    "</ul>"
   ]
  },
  {
   "cell_type": "code",
   "execution_count": 58,
   "metadata": {},
   "outputs": [
    {
     "name": "stdout",
     "output_type": "stream",
     "text": [
      "a =\n",
      "[[0.86299324 0.98340068 0.16384224 0.59733394]\n",
      " [0.0089861  0.38657128 0.04416006 0.95665297]\n",
      " [0.43614665 0.94897731 0.78630599 0.8662893 ]]\n",
      "b =\n",
      "[[ True  True False  True]\n",
      " [False False False  True]\n",
      " [False  True  True  True]]\n",
      "a[b] =\n",
      "[0.86299324 0.98340068 0.59733394 0.95665297 0.94897731 0.78630599\n",
      " 0.8662893 ]\n",
      "a[b].shape = (7,)\n",
      "a[b].ndim = 1\n",
      "After a[b] = 1\n",
      "a =\n",
      "[[1.         1.         0.16384224 1.        ]\n",
      " [0.0089861  0.38657128 0.04416006 1.        ]\n",
      " [0.43614665 1.         1.         1.        ]]\n"
     ]
    }
   ],
   "source": [
    "import numpy as np\n",
    "a = np.random.random(12).reshape(3, 4)\n",
    "print('a =')\n",
    "print(a)\n",
    "b = a > 0.5\n",
    "print('b =')\n",
    "print(b)\n",
    "print('a[b] =')\n",
    "print(a[b])\n",
    "print('a[b].shape =', a[b].shape)\n",
    "print('a[b].ndim =', a[b].ndim)\n",
    "a[b] = 1\n",
    "print('After a[b] = 1')\n",
    "print('a =')\n",
    "print(a)"
   ]
  },
  {
   "cell_type": "markdown",
   "metadata": {},
   "source": [
    "# 1.12 Monte Carlo Estimation of Pi\n",
    "\n",
    "The following example uses Numpy to estimate the value of pi. "
   ]
  },
  {
   "cell_type": "code",
   "execution_count": 63,
   "metadata": {},
   "outputs": [
    {
     "name": "stdout",
     "output_type": "stream",
     "text": [
      "[ True  True False ...  True False  True]\n",
      "3.142962\n"
     ]
    }
   ],
   "source": [
    "import numpy as np\n",
    "\n",
    "NUM_POINTS = 2000000\n",
    "point = np.random.random((NUM_POINTS, 2))\n",
    "point_index = np.sqrt(point[:,0]**2 + point[:,1]**2) < 1;\n",
    "print(point_index)\n",
    "print(4 * len(point[point_index==True])/NUM_POINTS)"
   ]
  },
  {
   "cell_type": "markdown",
   "metadata": {},
   "source": [
    "# 1.13 Exercise: Negate Array Elements"
   ]
  },
  {
   "cell_type": "code",
   "execution_count": 101,
   "metadata": {},
   "outputs": [
    {
     "name": "stdout",
     "output_type": "stream",
     "text": [
      "Before negation, a =\n",
      "[[3 2 8 5 1]\n",
      " [5 0 9 1 4]\n",
      " [2 4 9 0 7]\n",
      " [6 7 7 3 7]\n",
      " [2 4 3 3 2]]\n",
      "[[False False False  True False]\n",
      " [ True False False False  True]\n",
      " [False  True False False False]\n",
      " [ True False False False False]\n",
      " [False  True False False False]]\n",
      "after negation :\n",
      "\n",
      "[[ 3  2  8 -5  1]\n",
      " [-5  0  9  1 -4]\n",
      " [ 2 -4  9  0  7]\n",
      " [-6  7  7  3  7]\n",
      " [ 2 -4  3  3  2]]\n"
     ]
    }
   ],
   "source": [
    "import numpy as np\n",
    "\n",
    "a = np.random.randint(10, size = (5, 5))\n",
    "print('Before negation, a =')\n",
    "print(a)\n",
    "b = (a == 4) | (a == 5) | (a == 6)\n",
    "print(b)\n",
    "a[b] *= -1\n",
    "print(\"after negation :\\n\")\n",
    "print(a)\n",
    "\n",
    "# write a program to negatve elements of array a which are between 4 and 6 (including 4 and 6)\n"
   ]
  },
  {
   "cell_type": "code",
   "execution_count": 67,
   "metadata": {},
   "outputs": [
    {
     "name": "stdout",
     "output_type": "stream",
     "text": [
      "Before negation, a =\n",
      "[[3 5 3 4 6]\n",
      " [7 2 9 5 8]\n",
      " [0 8 2 6 3]\n",
      " [9 9 2 3 0]\n",
      " [1 7 4 3 1]]\n",
      "[[False  True False False False]\n",
      " [False False False  True False]\n",
      " [False False False False False]\n",
      " [False False False False False]\n",
      " [False False False False False]]\n",
      "boolean index array b = [5 4 6 5 6 4]\n",
      "After negation, a =\n",
      "[[ 3 -5  3 -4 -6]\n",
      " [ 7  2  9 -5  8]\n",
      " [ 0  8  2 -6  3]\n",
      " [ 9  9  2  3  0]\n",
      " [ 1  7 -4  3  1]]\n"
     ]
    }
   ],
   "source": [
    "# This is a solution to the exercise above\n",
    "\n",
    "import numpy as np\n",
    "\n",
    "a = np.random.randint(10, size = (5, 5))\n",
    "print('Before negation, a =')\n",
    "print(a)\n",
    "# write a program to negatve elements of array a which are between 4 and 6\n",
    "b = a[(3 < a) * (a < 7)]\n",
    "print('boolean index array b =' , b)\n",
    "a[(3 < a) & (a < 7)] *= -1\n",
    "print('After negation, a =')\n",
    "print(a)"
   ]
  },
  {
   "cell_type": "markdown",
   "metadata": {},
   "source": [
    "# 1.14 Array of indexes for One Dimensional Array\n",
    "For a one dimensional array a, an array of indexes from array a can be used to select elements from array to form a new array such that\n",
    "<ul>\n",
    "    <li> Each element in the array of indexes is an index of array a.\n",
    "    <li> The new array b has the same shape as the array of indexes.\n",
    "</ul>"
   ]
  },
  {
   "cell_type": "code",
   "execution_count": null,
   "metadata": {},
   "outputs": [],
   "source": [
    "import numpy as np\n",
    "a = np.arange(12) + 10\n",
    "print('a =', a)\n",
    "array_indexes = np.array([0, 0, 3, 4, 3])\n",
    "print('a[array_indexes] =', a[array_indexes])\n",
    "array_indexes = np.array([[0, 0, 2], [1, 3, 4]])\n",
    "print('array_indexes = ')\n",
    "print(array_indexes)\n",
    "print('To show that the new array has the same shape as the array of indexes')\n",
    "print('a[array_indexes] =')\n",
    "print(a[array_indexes])"
   ]
  },
  {
   "cell_type": "markdown",
   "metadata": {},
   "source": [
    "# 1.15 Array of Indexes for Two Dimensional Array\n",
    "For a two dimensional array a, an array of indexes from array a can be used to select elements from array a to form a new arrray b such that\n",
    "<ul>\n",
    "    <li> Each element in the array of indexes is the first dimension index of array a.\n",
    "    <li> The new array b has one more dimension than the array of indexes.\n",
    "</ul>"
   ]
  },
  {
   "cell_type": "code",
   "execution_count": null,
   "metadata": {},
   "outputs": [],
   "source": [
    "import numpy as np\n",
    "a = np.arange(24).reshape(4, 6)\n",
    "print('a =')\n",
    "print(a)\n",
    "array_indexes = np.array([[0, 0, 2], [1, 3, 3]])\n",
    "b = a[array_indexes]\n",
    "print('b =')\n",
    "print(b)\n",
    "print('a.shape =', a.shape)\n",
    "print('array_indexes.shape =', array_indexes.shape)\n",
    "print('b.shape =', b.shape)"
   ]
  },
  {
   "cell_type": "markdown",
   "metadata": {},
   "source": [
    "# 1.16 Reshape an Array\n",
    "The shape of an array a can be changed by\n",
    "<ul>\n",
    "    <li> a.shape = (): the shape of a is actually changed\n",
    "    <li> a.resize(): the shape of a is actually changed\n",
    "    <li> a.reshape(): the shape of a does not change\n",
    "</ul>"
   ]
  },
  {
   "cell_type": "code",
   "execution_count": 76,
   "metadata": {},
   "outputs": [
    {
     "name": "stdout",
     "output_type": "stream",
     "text": [
      "a = [ 0  1  2  3  4  5  6  7  8  9 10 11 12 13 14 15 16 17 18 19 20 21 22 23]\n",
      "-------------------After a.reshape(3, 8), b =\n",
      "[[ 0  1  2  3  4  5  6  7]\n",
      " [ 8  9 10 11 12 13 14 15]\n",
      " [16 17 18 19 20 21 22 23]]\n",
      "After a.reshape(3, 8), a =\n",
      "[ 0  1  2  3  4  5  6  7  8  9 10 11 12 13 14 15 16 17 18 19 20 21 22 23]\n",
      "-------------------After a.shape = (2, 12), a =\n",
      "[[ 0  1  2  3  4  5  6  7  8  9 10 11]\n",
      " [12 13 14 15 16 17 18 19 20 21 22 23]]\n",
      "After a.resize(4, 6), a =\n",
      "[[ 0  1  2  3  4  5]\n",
      " [ 6  7  8  9 10 11]\n",
      " [12 13 14 15 16 17]\n",
      " [18 19 20 21 22 23]]\n"
     ]
    }
   ],
   "source": [
    "import numpy as np\n",
    "a = np.arange(24)\n",
    "print('a =', a)\n",
    "b = a.reshape(3, 8)\n",
    "print('-------------------After a.reshape(3, 8), b =')\n",
    "print(b)\n",
    "print('After a.reshape(3, 8), a =')\n",
    "print(a)\n",
    "a.shape = (2, 12)\n",
    "print('-------------------After a.shape = (2, 12), a =')\n",
    "print(a)\n",
    "a.resize(4, 6)\n",
    "print('After a.resize(4, 6), a =')\n",
    "print(a)"
   ]
  },
  {
   "cell_type": "markdown",
   "metadata": {},
   "source": [
    "# 1.17 Array Assignment: No Copy\n",
    "Recall that assignment 'a = b' makes a refer to the same object as b refers to."
   ]
  },
  {
   "cell_type": "code",
   "execution_count": 79,
   "metadata": {},
   "outputs": [
    {
     "name": "stdout",
     "output_type": "stream",
     "text": [
      "a = [ 0  1  2  3  4  5  6  7  8  9 10 11]\n",
      "b = [ 0  1  2  3  4  5  6  7  8  9 10 11]\n",
      "id(a) = 140318729436416\n",
      "id(b) = 140318729436416\n",
      "After b.shape = (3, 4)\n",
      "a = [[ 0  1  2  3]\n",
      " [ 4  5  6  7]\n",
      " [ 8  9 10 11]]\n",
      "b = [[ 0  1  2  3]\n",
      " [ 4  5  6  7]\n",
      " [ 8  9 10 11]]\n",
      "id(a) = 140318729436416\n",
      "id(b) = 140318729436416\n"
     ]
    }
   ],
   "source": [
    "import numpy as np\n",
    "a = np.arange(12)\n",
    "b = a\n",
    "print('a =', a)\n",
    "print('b =', b)\n",
    "print('id(a) =', id(a))\n",
    "print('id(b) =', id(b))\n",
    "b.shape = (3, 4)\n",
    "print('After b.shape = (3, 4)')\n",
    "print('a =', a)\n",
    "print('b =', b)\n",
    "print('id(a) =', id(a))\n",
    "print('id(b) =', id(b))"
   ]
  },
  {
   "cell_type": "markdown",
   "metadata": {},
   "source": [
    "# 1.18 Array View: Shallow Copy\n",
    "For an array a, 'a.view()' creates a new array object which refers to the same data of array a. Note that a slicing of an array returns a view."
   ]
  },
  {
   "cell_type": "code",
   "execution_count": 83,
   "metadata": {},
   "outputs": [
    {
     "name": "stdout",
     "output_type": "stream",
     "text": [
      "a =  [ 0  1  2  3  4  5  6  7  8  9 10 11]\n",
      "view of a: c = [ 0  1  2  3  4  5  6  7  8  9 10 11]\n",
      "After c.resize((3, 4))\n",
      "c =\n",
      "[[ 0  1  2  3]\n",
      " [ 4  5  6  7]\n",
      " [ 8  9 10 11]]\n",
      "a =\n",
      "[ 0  1  2  3  4  5  6  7  8  9 10 11]\n",
      "After c[1, 2] = -3\n",
      "c =\n",
      "[[ 0  1  2  3]\n",
      " [ 4  5 -3  7]\n",
      " [ 8  9 10 11]]\n",
      "a =\n",
      "[ 0  1  2  3  4  5 -3  7  8  9 10 11]\n",
      "b =\n",
      "[[1]\n",
      " [5]\n",
      " [9]]\n",
      "After b[:] = -10\n",
      "c =\n",
      "[[  0 -10   2   3]\n",
      " [  4 -10  -3   7]\n",
      " [  8 -10  10  11]]\n",
      "a is c False\n"
     ]
    }
   ],
   "source": [
    "import numpy as np\n",
    "a = np.arange(12)\n",
    "print('a = ', a)\n",
    "c = a.view()\n",
    "print('view of a: c =', c)\n",
    "c.resize((3, 4))\n",
    "print('After c.resize((3, 4))')\n",
    "print('c =')\n",
    "print(c)\n",
    "print('a =')\n",
    "print(a)\n",
    "c[1, 2] = -3\n",
    "print('After c[1, 2] = -3')\n",
    "print('c =')\n",
    "print(c)\n",
    "print('a =')\n",
    "print(a)\n",
    "b = c[:, 1:2]\n",
    "print('b =')\n",
    "print(b)\n",
    "b[:] = -10\n",
    "print('After b[:] = -10')\n",
    "print('c =')\n",
    "print(c)\n",
    "print(\"a is c\",  a is c)"
   ]
  },
  {
   "cell_type": "markdown",
   "metadata": {},
   "source": [
    "# 1.19 Array Copy: Deep Copy\n",
    "For an array a, 'a.copy()' creates a new array object which has its own data which is a copy of data in a."
   ]
  },
  {
   "cell_type": "code",
   "execution_count": 80,
   "metadata": {},
   "outputs": [
    {
     "name": "stdout",
     "output_type": "stream",
     "text": [
      "a = [ 0  1  2  3  4  5  6  7  8  9 10 11 12 13 14 15 16 17 18 19 20 21 22 23]\n",
      "d = [ 0  1  2  3  4  5  6  7  8  9 10 11 12 13 14 15 16 17 18 19 20 21 22 23]\n",
      "a == d [ True  True  True  True  True  True  True  True  True  True  True  True\n",
      "  True  True  True  True  True  True  True  True  True  True  True  True]\n",
      "a is d:  False\n",
      "After d[5] = -10\n",
      "d =\n",
      "[  0   1   2   3   4 -10   6   7   8   9  10  11  12  13  14  15  16  17\n",
      "  18  19  20  21  22  23]\n",
      "a =\n",
      "[ 0  1  2  3  4  5  6  7  8  9 10 11 12 13 14 15 16 17 18 19 20 21 22 23]\n"
     ]
    }
   ],
   "source": [
    "import numpy as np\n",
    "a = np.arange(24)\n",
    "print('a =', a)\n",
    "d = a.copy()\n",
    "print('d =', d)\n",
    "print('a == d', a == d)\n",
    "print('a is d: ', a is d)\n",
    "d[5] = -10\n",
    "print('After d[5] = -10')\n",
    "print('d =')\n",
    "print(d)\n",
    "print('a =')\n",
    "print(a)\n"
   ]
  },
  {
   "cell_type": "markdown",
   "metadata": {},
   "source": [
    "# 1.20 Exercise: Swap two rows in an array"
   ]
  },
  {
   "cell_type": "code",
   "execution_count": 102,
   "metadata": {},
   "outputs": [
    {
     "name": "stdout",
     "output_type": "stream",
     "text": [
      "After swapping: \n",
      " [[ 5  6  7  8  9]\n",
      " [ 0  1  2  3  4]\n",
      " [10 11 12 13 14]\n",
      " [15 16 17 18 19]\n",
      " [20 21 22 23 24]]\n",
      "Original array a =\n",
      "[[ 0  1  2  3  4]\n",
      " [ 5  6  7  8  9]\n",
      " [10 11 12 13 14]\n",
      " [15 16 17 18 19]\n",
      " [20 21 22 23 24]]\n"
     ]
    }
   ],
   "source": [
    "import numpy as np\n",
    "\n",
    "a = np.arange(25).reshape(5,5)\n",
    "\n",
    "# create a new array which is a copy of array a\n",
    "b = a.copy()\n",
    "\n",
    "# swap the first and second rows in the new array\n",
    "b[[0,1]] = b[[1,0]]\n",
    "\n",
    "# display the new array\n",
    "print(\"After swapping: \\n\", b)\n",
    "\n",
    "print('Original array a =')\n",
    "print(a)"
   ]
  },
  {
   "cell_type": "code",
   "execution_count": 85,
   "metadata": {},
   "outputs": [
    {
     "name": "stdout",
     "output_type": "stream",
     "text": [
      "[[ 0  1  2  3  4]\n",
      " [ 5  6  7  8  9]\n",
      " [10 11 12 13 14]\n",
      " [15 16 17 18 19]\n",
      " [20 21 22 23 24]]\n",
      "After swap rows, new array =\n",
      "[[ 5  6  7  8  9]\n",
      " [ 0  1  2  3  4]\n",
      " [10 11 12 13 14]\n",
      " [15 16 17 18 19]\n",
      " [20 21 22 23 24]]\n",
      "Original array a =\n",
      "[[ 0  1  2  3  4]\n",
      " [ 5  6  7  8  9]\n",
      " [10 11 12 13 14]\n",
      " [15 16 17 18 19]\n",
      " [20 21 22 23 24]]\n"
     ]
    }
   ],
   "source": [
    "# This is a solution to the exercise above\n",
    "import numpy as np\n",
    "\n",
    "a = np.arange(25).reshape(5,5)\n",
    "b = a.copy()\n",
    "b[[0,1]] = b[[1,0]]\n",
    "print(a)\n",
    "print('After swap rows, new array =')\n",
    "print(b)\n",
    "print('Original array a =')\n",
    "print(a)\n",
    "\n",
    "# the following is to swap the first two columns\n",
    "#c = a.copy()\n",
    "#c[:,0:2] = c[:,1::-1]\n",
    "#print(c)"
   ]
  },
  {
   "cell_type": "markdown",
   "metadata": {},
   "source": [
    "# 1.21 Broadcasting\n",
    "Broadcasting allows operations on arrays of different shapes. Numpy compares the shapes of two arrays by starting with the trailing dimensions and working its way backward to ensure two arrays compatible. Two dimensions are compatible if\n",
    "<ul>\n",
    "    <li> their sizes are equal, or\n",
    "    <li> one has a size of 1\n",
    "</ul>\n",
    "When one dimensional has a size of 1 in an array, the array is copied along that dimension.\n",
    "Examples of compatible arrays<br>\n",
    "(1) a 2 x 3 x 3<br>\n",
    "    b 2 x 3 x 1<br>\n",
    "(2) a 2 x 3 x 3<br>\n",
    "              3"
   ]
  },
  {
   "cell_type": "code",
   "execution_count": 103,
   "metadata": {},
   "outputs": [
    {
     "name": "stdout",
     "output_type": "stream",
     "text": [
      "a =\n",
      "[[[ 0  1  2]\n",
      "  [ 3  4  5]\n",
      "  [ 6  7  8]]\n",
      "\n",
      " [[ 9 10 11]\n",
      "  [12 13 14]\n",
      "  [15 16 17]]]\n",
      "b =\n",
      "[[[0]\n",
      "  [1]\n",
      "  [2]]\n",
      "\n",
      " [[3]\n",
      "  [4]\n",
      "  [5]]]\n",
      "a + b =\n",
      "[[[ 0  1  2]\n",
      "  [ 4  5  6]\n",
      "  [ 8  9 10]]\n",
      "\n",
      " [[12 13 14]\n",
      "  [16 17 18]\n",
      "  [20 21 22]]]\n"
     ]
    }
   ],
   "source": [
    "import numpy as np\n",
    "a = np.arange(18).reshape(2, 3, 3)\n",
    "b = np.arange(6).reshape(2, 3, 1)\n",
    "print('a =')\n",
    "print(a)\n",
    "print('b =')\n",
    "print(b)\n",
    "print('a + b =')\n",
    "print(a + b)   # broadcasting allows '+' on a and b of different shapes.\n"
   ]
  },
  {
   "cell_type": "markdown",
   "metadata": {},
   "source": [
    "The figure below explains how array b is copied in the program above.\n",
    "<img src ='broadcasting-copy.png' height = 60>"
   ]
  },
  {
   "cell_type": "markdown",
   "metadata": {},
   "source": [
    "# 1.22 Exericse: Subtract the mean of each row in an array"
   ]
  },
  {
   "cell_type": "code",
   "execution_count": null,
   "metadata": {},
   "outputs": [],
   "source": [
    "import numpy as np\n",
    "a = np.arange(30).reshape(5,6)\n",
    "print(a)\n",
    "# write program to get the array b which are the means of each row\n",
    "\n",
    "# show array b\n",
    "\n",
    "# show b - a\n",
    "\n"
   ]
  },
  {
   "cell_type": "code",
   "execution_count": 104,
   "metadata": {},
   "outputs": [
    {
     "name": "stdout",
     "output_type": "stream",
     "text": [
      "[[ 0  1  2  3  4  5]\n",
      " [ 6  7  8  9 10 11]\n",
      " [12 13 14 15 16 17]\n",
      " [18 19 20 21 22 23]\n",
      " [24 25 26 27 28 29]]\n",
      "mean of rows:  [[ 2.5]\n",
      " [ 8.5]\n",
      " [14.5]\n",
      " [20.5]\n",
      " [26.5]]\n",
      "a - b = \n",
      " [[-2.5 -1.5 -0.5  0.5  1.5  2.5]\n",
      " [-2.5 -1.5 -0.5  0.5  1.5  2.5]\n",
      " [-2.5 -1.5 -0.5  0.5  1.5  2.5]\n",
      " [-2.5 -1.5 -0.5  0.5  1.5  2.5]\n",
      " [-2.5 -1.5 -0.5  0.5  1.5  2.5]]\n"
     ]
    }
   ],
   "source": [
    "# This is a solution to the exercise above\n",
    "\n",
    "import numpy as np\n",
    "a = np.arange(30).reshape(5,6)\n",
    "print(a)\n",
    "b = np.mean(a, axis = 1, keepdims=True)\n",
    "print('mean of rows: ', b)\n",
    "print('a - b = \\n', a - b)"
   ]
  },
  {
   "cell_type": "markdown",
   "metadata": {},
   "source": [
    "# 2 Matplotlib\n",
    "Matplotlib is a python 2D plotting library. It \n",
    "<ul>\n",
    "    <li> Produces publiction quality figures.\n",
    "    <li> Generates plots, histograms, power spectra, bar charts, etc.\n",
    "    <ul>\n",
    "         <li> The pyplot interface of matplotlib provides a Matlab-like interface.\n",
    "         <li> Full control of line styles, font properties, etc. are provided via an object oriented inteface or a set of functions.\n",
    "         <li> Toolkits are availabe: basemap, cartopy, mplot3d, seaboar, ggplot, etc.\n",
    "    </ul>\n",
    "</ul>\n",
    "\n",
    "# 2.1 Figures\n",
    "A figure contains all plot elements: plot, label, legend, etc.\n",
    "<ul>\n",
    "    <li> The matplotlib.figure moduel provides full contril of figures.\n",
    "    <li> The maplotlib.pyplot provides figure(0 to create a figure.\n",
    "</ul>"
   ]
  },
  {
   "cell_type": "code",
   "execution_count": 106,
   "metadata": {},
   "outputs": [
    {
     "data": {
      "image/png": "[encoded data removed]",
      "text/plain": [
       "<Figure size 432x288 with 1 Axes>"
      ]
     },
     "metadata": {},
     "output_type": "display_data"
    }
   ],
   "source": [
    "import matplotlib.pyplot as plt\n",
    "fig=plt.figure()      # create an empty figure\n",
    "plt.title('First Figure') #put a title on the new empty figure\n",
    "plt.show()            # display the figure"
   ]
  },
  {
   "cell_type": "markdown",
   "metadata": {},
   "source": [
    "# 2.2 Plotting Data\n",
    "The pyplot.plot() functions plots lines and/or markers to the current figure."
   ]
  },
  {
   "cell_type": "code",
   "execution_count": 112,
   "metadata": {},
   "outputs": [
    {
     "data": {
      "image/png": "[encoded data removed]",
      "text/plain": [
       "<Figure size 432x288 with 1 Axes>"
      ]
     },
     "metadata": {},
     "output_type": "display_data"
    }
   ],
   "source": [
    "import matplotlib.pyplot as plt\n",
    "plt.plot([1, 2, 3, 4], [1, 4, 9, 16])        # draw lines for the input data x and y\n",
    "plt.plot([3, 4, 5, 9], [9, 16, 5, 2], 'ro')  # draw markers (red o) for the input data x and y\n",
    "plt.show()"
   ]
  },
  {
   "cell_type": "markdown",
   "metadata": {},
   "source": [
    "Now let's draw the figure for the monte carlo estimation of pi."
   ]
  },
  {
   "cell_type": "code",
   "execution_count": 113,
   "metadata": {},
   "outputs": [
    {
     "name": "stdout",
     "output_type": "stream",
     "text": [
      "[ True  True  True ...  True  True  True]\n"
     ]
    },
    {
     "data": {
      "image/png": "[encoded data removed]",
      "text/plain": [
       "<Figure size 432x288 with 1 Axes>"
      ]
     },
     "metadata": {},
     "output_type": "display_data"
    },
    {
     "name": "stdout",
     "output_type": "stream",
     "text": [
      "3.14664\n"
     ]
    }
   ],
   "source": [
    "import numpy as np\n",
    "import matplotlib.pyplot as plt\n",
    "\n",
    "NUM_POINTS = 100000\n",
    "point = np.random.random((NUM_POINTS, 2))\n",
    "point_index = np.sqrt(point[:,0]**2 + point[:,1]**2) < 1;\n",
    "print(point_index)\n",
    "plt.plot(point[point_index,0], point[point_index,1], 'b.')\n",
    "plt.plot(point[point_index == False, 0], point[point_index == False, 1], 'r.')\n",
    "plt.show()\n",
    "print(4 * len(point[point_index==True])/NUM_POINTS)"
   ]
  },
  {
   "cell_type": "markdown",
   "metadata": {},
   "source": [
    "# 2.3 Multiple Figures\n",
    "Multiple figures can be created and plotted."
   ]
  },
  {
   "cell_type": "code",
   "execution_count": 114,
   "metadata": {},
   "outputs": [
    {
     "data": {
      "image/png": "[encoded data removed]",
      "text/plain": [
       "<Figure size 432x288 with 1 Axes>"
      ]
     },
     "metadata": {},
     "output_type": "display_data"
    },
    {
     "data": {
      "image/png": "[encoded data removed]",
      "text/plain": [
       "<Figure size 432x288 with 1 Axes>"
      ]
     },
     "metadata": {},
     "output_type": "display_data"
    }
   ],
   "source": [
    "import matplotlib.pyplot as plt\n",
    "plt.plot([1, 2, 3, 4], [1, 4, 9, 16])\n",
    "plt.title(\"First Figure\")\n",
    "plt.figure()      # create a second figure\n",
    "plt.title(\"Second Figure\")\n",
    "plt.plot([1, 2, 3, 4],  [1, 4, 9, 16], 'ro')\n",
    "plt.figure(1)   # select the first figure to plot data\n",
    "plt.plot([3, 4, 5, 9],  [9, 16, 5, 2], 'ro')\n",
    "plt.figure(2)   # select the second figure to plot data\n",
    "plt.plot([3, 4, 5, 9], [9, 16, 5, 2])\n",
    "plt.show()"
   ]
  },
  {
   "cell_type": "markdown",
   "metadata": {},
   "source": [
    "# 2.4 Axes\n",
    "A fiure can have more than one Axes. Each axes can be plotted separately. The pyplot.axes(left, botoom, hight, width) function creates an axes where all values are in fraction (between 0 and 1) coordinates."
   ]
  },
  {
   "cell_type": "code",
   "execution_count": 115,
   "metadata": {},
   "outputs": [
    {
     "data": {
      "image/png": "[encoded data removed]",
      "text/plain": [
       "<Figure size 432x288 with 3 Axes>"
      ]
     },
     "metadata": {},
     "output_type": "display_data"
    }
   ],
   "source": [
    "import matplotlib.pyplot as plt\n",
    "fig = plt.figure()\n",
    "axes1 = fig.add_axes([0.1, 0.1, 0.9, 0.9])\n",
    "axes1.set_title('Main Axes/Figure Title')\n",
    "axes2 = fig.add_axes([0.2, 0.2, 0.3, 0.3])\n",
    "axes2.plot([1, 2, 3, 4], [1, 4, 9, 16])\n",
    "axes2.set_title('First Axes')\n",
    "axes3 = fig.add_axes([0.6, 0.6, 0.3, 0.3])\n",
    "axes3.plot([1, 2, 3, 4], [1, 4, 9., 16], 'ro')\n",
    "axes3.set_title('Second Axes')\n",
    "plt.show()"
   ]
  },
  {
   "cell_type": "code",
   "execution_count": 116,
   "metadata": {},
   "outputs": [
    {
     "data": {
      "image/png": "[encoded data removed]",
      "text/plain": [
       "<Figure size 432x288 with 2 Axes>"
      ]
     },
     "metadata": {},
     "output_type": "display_data"
    }
   ],
   "source": [
    "import matplotlib.pyplot as plt\n",
    "fig = plt.figure()\n",
    "axes1 = fig.add_axes([0.1, 0.1, 0.3, 0.3])\n",
    "axes1.set_title('First Axes')\n",
    "axes1.plot([1, 2, 3, 4], [1, 4, 9, 16])\n",
    "axes2 = fig.add_axes([0.5, 0.5, 0.3, 0.3])\n",
    "axes2.plot([1, 2, 3, 4], [1, 4, 9., 16], 'ro')\n",
    "axes2.set_title('Second Axes')\n",
    "#plt.title('Figure Title')\n",
    "plt.show()\n",
    "# Tasks to do\n",
    "# (1) Execute the statements above\n",
    "# (2) Uncomment the line for \"plt.title(Figure Title)\", then execute the statements above again. Any differences."
   ]
  },
  {
   "cell_type": "markdown",
   "metadata": {},
   "source": [
    "# 2.5 Axis\n",
    "An axes has two or three axis.\n",
    "<ul>\n",
    "    <li> pyplot_xlim(min_x, min_y) sets the data limits on x-axis (ylim for y-axis).\n",
    "    <li>pyplot.xlabel() sets the label for x-axis (ylabel for y-axis)\n",
    "    <li>pyplot.xticks() sets teh ticks/marks on x-axis (yticks for y-axis)\n",
    "</ul>"
   ]
  },
  {
   "cell_type": "code",
   "execution_count": 119,
   "metadata": {},
   "outputs": [
    {
     "data": {
      "image/png": "[encoded data removed]",
      "text/plain": [
       "<Figure size 432x288 with 1 Axes>"
      ]
     },
     "metadata": {},
     "output_type": "display_data"
    }
   ],
   "source": [
    "import matplotlib.pyplot as plt\n",
    "plt.plot([1, 2, 3, 4], [1, 4, 9, 16])\n",
    "plt.xlim(0, 9)\n",
    "plt.xticks([2, 3, 4, 5])\n",
    "plt.yticks([2, 3, 4, 5])\n",
    "plt.ylabel('apples')\n",
    "plt.show()"
   ]
  },
  {
   "cell_type": "markdown",
   "metadata": {},
   "source": [
    "# 2.6 Legends\n",
    "The pyplot.legend() adds a legend to a figure."
   ]
  },
  {
   "cell_type": "code",
   "execution_count": 118,
   "metadata": {},
   "outputs": [
    {
     "data": {
      "image/png": "[encoded data removed]",
      "text/plain": [
       "<Figure size 432x288 with 1 Axes>"
      ]
     },
     "metadata": {},
     "output_type": "display_data"
    }
   ],
   "source": [
    "from matplotlib import pyplot as plt\n",
    "from numpy.random import randn\n",
    "z = randn(10)\n",
    "red_dot, = plt.plot(z, \"ro\", markersize = 15)\n",
    "blue_cross, = plt.plot(z[:5], \"b+\", markeredgewidth = 3, markersize = 15)\n",
    "plt.legend([red_dot, (red_dot, blue_cross)], [\"Attr A\", \"Attr A-B\"])\n",
    "plt.title(\"Experiment A\")\n",
    "plt.show()"
   ]
  },
  {
   "cell_type": "markdown",
   "metadata": {},
   "source": [
    "# 2.7 Mandelrot Set"
   ]
  },
  {
   "cell_type": "code",
   "execution_count": 120,
   "metadata": {},
   "outputs": [
    {
     "name": "stderr",
     "output_type": "stream",
     "text": [
      "/opt/Anaconda/3-5.2.0/lib/python3.6/site-packages/ipykernel_launcher.py:23: RuntimeWarning: overflow encountered in square\n",
      "/opt/Anaconda/3-5.2.0/lib/python3.6/site-packages/ipykernel_launcher.py:23: RuntimeWarning: invalid value encountered in square\n",
      "/opt/Anaconda/3-5.2.0/lib/python3.6/site-packages/ipykernel_launcher.py:25: RuntimeWarning: invalid value encountered in less\n"
     ]
    },
    {
     "data": {
      "image/png": "[encoded data removed]",
      "text/plain": [
       "<Figure size 432x288 with 1 Axes>"
      ]
     },
     "metadata": {},
     "output_type": "display_data"
    }
   ],
   "source": [
    "# Now let's look at the program to generate a mandelrot set\n",
    "\"\"\"\n",
    "Compute the Mandelbrot fractal\n",
    "from https://www.scipy-lectures.org/intro/numpy/exercises.html\n",
    "\"\"\"\n",
    "import numpy as np\n",
    "import matplotlib.pyplot as plt\n",
    "from numpy import newaxis\n",
    "from numba import jit\n",
    "\n",
    "\n",
    "def compute_mandelbrot(N_max, some_threshold, nx, ny):\n",
    "    # A grid of c-values\n",
    "    x = np.linspace(-2, 1, nx)\n",
    "    y = np.linspace(-1.5, 1.5, ny)\n",
    "\n",
    "    c = x[:,newaxis] + 1j*y[newaxis,:]\n",
    "\n",
    "    # Mandelbrot iteration\n",
    "\n",
    "    z = c\n",
    "    for j in range(N_max):\n",
    "        z = z**2 + c\n",
    "\n",
    "    mandelbrot_set = (abs(z) < some_threshold)\n",
    "\n",
    "    return mandelbrot_set\n",
    "\n",
    "# Save\n",
    "\n",
    "mandelbrot_set = compute_mandelbrot(50, 50., 1001, 1001)\n",
    "\n",
    "plt.imshow(mandelbrot_set.T, extent=[-2, 1, -1.5, 1.5])\n",
    "#plt.gray()\n",
    "plt.savefig('mandelbrot.eps')\n",
    "plt.show()"
   ]
  },
  {
   "cell_type": "markdown",
   "metadata": {},
   "source": [
    "# 3 Scipy\n",
    "Scipy is a collection of mathematical algorithms and functions build on Numpy. It is organized into subpackages covering variuos computing domains:\n",
    "<ul>\n",
    "    <li> Cluster: clustering algorithms\n",
    "    <li> Ftppack: fast Fourier Transform routinges\n",
    "    <li> Linalg: linear algebra\n",
    "    <li> Optimzie: optimization and root-finding routines\n",
    "    <li> Sparse: sparse matrices and associated routines\n",
    "    <li> and more ...\n",
    "</ul>"
   ]
  },
  {
   "cell_type": "markdown",
   "metadata": {},
   "source": [
    "# 3.1 Scipy Linear Algebra\n",
    "Sicpy.linalg provides all functions in numpy.linalg, plus some other more advanced functions.\n",
    "<ul>\n",
    "    <li> Scipy.linalg is preferred unless you do not want the dependency on scipy which requires a Fortran compiler since it is a warpping of Fortran LAPACK using f2py.\n",
    "    <li> Scipy.linalg is always compiled with BLAS/LAPACK support (faster), while this is optional for numpy.\n",
    "    <li> All of the BLAS/LAPACK functions are available to use in scipy.\n",
    "</ul>\n",
    "For example, scipy.linalg.solve(A, b) (faster than linalg.inv(A).dot(b)) can be used to solve the following equations:<br>\n",
    "x + 3y = 10<br>\n",
    "2x + 5y = 20"
   ]
  },
  {
   "cell_type": "code",
   "execution_count": 121,
   "metadata": {},
   "outputs": [
    {
     "name": "stdout",
     "output_type": "stream",
     "text": [
      "A =\n",
      "[[1 3]\n",
      " [2 5]]\n",
      "b =\n",
      "[[10]\n",
      " [20]]\n",
      "The solution of the equations Ax=b is linalg.solve(A, b) =\n",
      "[[10.]\n",
      " [ 0.]]\n"
     ]
    }
   ],
   "source": [
    "import numpy as np\n",
    "import scipy.linalg as linalg\n",
    "A = np.array([[1, 3], [2, 5]])\n",
    "b = np.array([[10], [20]])\n",
    "print('A =')\n",
    "print(A)\n",
    "print('b =')\n",
    "print(b)\n",
    "print('The solution of the equations Ax=b is linalg.solve(A, b) =')\n",
    "print(linalg.solve(A, b))"
   ]
  },
  {
   "cell_type": "markdown",
   "metadata": {},
   "source": [
    "# 4 Numba\n",
    "\n",
    "Numba is a just-in-time compiler for Python. It can speedup python program which uses NumpPy arrays, functions, and loops. The following examples are adopted from http://numba.pydata.org/numba-doc/0.12/tutorial_numpy_and_numba.html."
   ]
  },
  {
   "cell_type": "code",
   "execution_count": 128,
   "metadata": {},
   "outputs": [],
   "source": [
    "def sum_all(A):\n",
    "    \"\"\"Naive sum of elements of an array... assumes one dimensional array of floats\"\"\"\n",
    "    acc = 0.0\n",
    "    for i in range(A.shape[0]):\n",
    "        acc += A[i]\n",
    "    return acc"
   ]
  },
  {
   "cell_type": "code",
   "execution_count": 129,
   "metadata": {},
   "outputs": [],
   "source": [
    "sample_array = np.arange(10000.0)"
   ]
  },
  {
   "cell_type": "code",
   "execution_count": 130,
   "metadata": {},
   "outputs": [
    {
     "name": "stdout",
     "output_type": "stream",
     "text": [
      "1.56 ms ± 20.8 µs per loop (mean ± std. dev. of 7 runs, 1000 loops each)\n"
     ]
    }
   ],
   "source": [
    "%timeit sum_all(sample_array)"
   ]
  },
  {
   "cell_type": "code",
   "execution_count": 131,
   "metadata": {},
   "outputs": [
    {
     "name": "stdout",
     "output_type": "stream",
     "text": [
      "10.3 µs ± 109 ns per loop (mean ± std. dev. of 7 runs, 100000 loops each)\n"
     ]
    }
   ],
   "source": [
    "%timeit np.sum(sample_array)"
   ]
  },
  {
   "cell_type": "code",
   "execution_count": 132,
   "metadata": {},
   "outputs": [],
   "source": [
    "from numba import jit\n",
    "\n",
    "@jit\n",
    "def sum_all_numba(A):\n",
    "    \"\"\"Naive sum of elements of an array... assumes one dimensional array of floats\"\"\"\n",
    "    acc = 0.0\n",
    "    for i in range(A.shape[0]):\n",
    "        acc += A[i]\n",
    "    return acc"
   ]
  },
  {
   "cell_type": "code",
   "execution_count": 133,
   "metadata": {},
   "outputs": [
    {
     "name": "stdout",
     "output_type": "stream",
     "text": [
      "10.4 µs ± 316 ns per loop (mean ± std. dev. of 7 runs, 100000 loops each)\n"
     ]
    }
   ],
   "source": [
    "%timeit sum_all_numba(sample_array)"
   ]
  },
  {
   "cell_type": "markdown",
   "metadata": {},
   "source": [
    "# 5 Errors in Scientific Computing\n",
    "\n",
    "# 5.1 Precision for Floating Point Numbers\n",
    "A floating point number is stored with finite bits in a computer\n",
    "<ul>\n",
    "    <li>A single-precision floating point number is stored as 32 bits\n",
    "    <li>A double-precision floating point number is stored as 64 bits\n",
    "    <li>A floating point number normally is not displayed accurately. It is displayed with fewer digits for better readability.\n",
    "<ul>"
   ]
  },
  {
   "cell_type": "code",
   "execution_count": 134,
   "metadata": {},
   "outputs": [
    {
     "name": "stdout",
     "output_type": "stream",
     "text": [
      "[7.8  7.85 7.9  7.95 8.   8.05 8.1  8.15 8.2  8.25 8.3  8.35 8.4 ]\n",
      "a[12] is actually 8.3999999999999985789145284797996282577514648437500000000\n"
     ]
    }
   ],
   "source": [
    "import numpy as np\n",
    "a = np.arange(7.8, 8.4, 0.05)\n",
    "print(a)\n",
    "print('a[12] is actually', '{0:.55f}'.format(a[12]))"
   ]
  },
  {
   "cell_type": "markdown",
   "metadata": {},
   "source": [
    "# 5.2 Error for Comparing Floating Point Numbers\n",
    "The result may surprise you when two floating point numbers are compared"
   ]
  },
  {
   "cell_type": "code",
   "execution_count": 135,
   "metadata": {},
   "outputs": [
    {
     "name": "stdout",
     "output_type": "stream",
     "text": [
      "False\n",
      "0.1 is actually stored as 0.1000000000000000055511151231257827021181583404541015625\n",
      "0.3 is actually stored as 0.2999999999999999888977697537484345957636833190917968750\n",
      "0.1 + 0.1 + 0.1 is actually stored as 0.3000000000000000444089209850062616169452667236328125000\n"
     ]
    }
   ],
   "source": [
    "print(0.1 + 0.1 + 0.1 == 0.3)\n",
    "print('0.1 is actually stored as','{0:.55f}'.format(0.1))\n",
    "print('0.3 is actually stored as','{0:.55f}'.format(0.3))\n",
    "print('0.1 + 0.1 + 0.1 is actually stored as','{0:.55f}'.format(0.1 + 0.1 + 0.1))"
   ]
  },
  {
   "cell_type": "markdown",
   "metadata": {},
   "source": [
    "How to handle issues like this?\n",
    "\n",
    "This cannot be covered in this course. More study on numeric computation is needed. A simple approach is to claim that 0.1 + 0.1 + 0.1 == 0.3 is True if abs(0.1 + 0.1 + 0.1 - 0.3) < epsilon (a small number, e.g., 0.000001). Numpy provides a function allclose() to check whether two numbers/arrays are close eough to be considered equal."
   ]
  },
  {
   "cell_type": "code",
   "execution_count": 136,
   "metadata": {},
   "outputs": [
    {
     "data": {
      "text/plain": [
       "True"
      ]
     },
     "execution_count": 136,
     "metadata": {},
     "output_type": "execute_result"
    }
   ],
   "source": [
    "np.allclose(0.1+0.1+0.1, 0.3)"
   ]
  },
  {
   "cell_type": "markdown",
   "metadata": {},
   "source": [
    "# More on Python\n",
    "<ul>\n",
    "    <li>https://www.labri.fr/perso/nrougier/teaching/matplotlib/\n",
    "    <li>http://nbviewer.jupyter.org/github/jrjohansson/scientific-python-lectures/blob/master/Lecture-4-Matplotlib.ipynb\n",
    "</ul>"
   ]
  }
 ],
 "metadata": {
  "kernelspec": {
   "display_name": "Python 3",
   "language": "python",
   "name": "python3"
  },
  "language_info": {
   "codemirror_mode": {
    "name": "ipython",
    "version": 3
   },
   "file_extension": ".py",
   "mimetype": "text/x-python",
   "name": "python",
   "nbconvert_exporter": "python",
   "pygments_lexer": "ipython3",
   "version": "3.6.5"
  }
 },
 "nbformat": 4,
 "nbformat_minor": 2
}
