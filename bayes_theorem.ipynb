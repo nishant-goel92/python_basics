{
 "cells": [
  {
   "cell_type": "markdown",
   "metadata": {},
   "source": [
    "# Application of Bayes' Theorem\n",
    "\n",
    "## Question\n",
    "\n",
    "Adam visited his doctor to get tested for a rare disease, which is found in 10% of the population. The test ran by the doctor has 75% accuracy to detect the disease if it reads positive. Now Adam received a positive result, what is the possibility that he has the disease?  \n",
    "\n",
    "After he got the result, he visited another doctor and also got a positive result for the same test. What is the possibility now?\n",
    "\n",
    "## Solution\n",
    "\n",
    "${\\displaystyle P(D\\mid +)={\\frac {P(+\\mid D)P(D)}{P(+)}}}$\n",
    "\n",
    "${\\displaystyle P(+) = P(+\\mid D)P(D) + P(+\\mid \\overline D)P(\\overline D)}$\n",
    "\n",
    "${\\displaystyle P(D) = 0.1}$\n",
    "\n",
    "${\\displaystyle P(\\overline D) = 0.9}$\n",
    "\n",
    "${\\displaystyle P(+\\mid D) = 0.75}$\n",
    "\n",
    "${\\displaystyle P(+\\mid \\overline D) = 0.25}$\n"
   ]
  },
  {
   "cell_type": "code",
   "execution_count": 8,
   "metadata": {},
   "outputs": [
    {
     "data": {
      "text/plain": [
       "0.25"
      ]
     },
     "execution_count": 8,
     "metadata": {},
     "output_type": "execute_result"
    }
   ],
   "source": [
    "0.75 * 0.10 / (0.75 * 0.10 + 0.25 * 0.90)"
   ]
  },
  {
   "cell_type": "markdown",
   "metadata": {},
   "source": [
    "## Quesiton\n",
    "Assuming Adam will get positive results for his future tests, how many tests shall he have to be 95% sure that he hass the disease? "
   ]
  },
  {
   "cell_type": "code",
   "execution_count": null,
   "metadata": {},
   "outputs": [],
   "source": []
  }
 ],
 "metadata": {
  "kernelspec": {
   "display_name": "Python 3",
   "language": "python",
   "name": "python3"
  },
  "language_info": {
   "codemirror_mode": {
    "name": "ipython",
    "version": 3
   },
   "file_extension": ".py",
   "mimetype": "text/x-python",
   "name": "python",
   "nbconvert_exporter": "python",
   "pygments_lexer": "ipython3",
   "version": "3.6.3"
  }
 },
 "nbformat": 4,
 "nbformat_minor": 4
}
